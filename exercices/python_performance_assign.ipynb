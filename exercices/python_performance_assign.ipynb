{
 "cells": [
  {
   "cell_type": "markdown",
   "metadata": {},
   "source": [
    "<h1 align=\"center\">Python performance exercises</h1>"
   ]
  },
  {
   "cell_type": "markdown",
   "metadata": {},
   "source": [
    "## Python best practices exercises"
   ]
  },
  {
   "cell_type": "markdown",
   "metadata": {},
   "source": [
    "### Exercise 1\n",
    "\n",
    "considering the following function for concatenating list strings with deliter."
   ]
  },
  {
   "cell_type": "code",
   "execution_count": 2,
   "metadata": {},
   "outputs": [],
   "source": [
    "def ft_concatenate(l_strings, d):\n",
    "    \"\"\"concatenate list of strings into one string separated by delimeter\"\"\"\n",
    "    res = l_strings[0]\n",
    "    for e in l_strings[1:]:\n",
    "        res = res + d + e\n",
    "    return res"
   ]
  },
  {
   "cell_type": "markdown",
   "metadata": {},
   "source": [
    "- profile the function and identify the bottlenecks.\n",
    "- improve speed up of the function\n",
    "*Hint: you may need to look to the string functions in python documentation*"
   ]
  },
  {
   "cell_type": "code",
   "execution_count": 5,
   "metadata": {},
   "outputs": [
    {
     "name": "stdout",
     "output_type": "stream",
     "text": [
      "The line_profiler extension is already loaded. To reload it, use:\n",
      "  %reload_ext line_profiler\n"
     ]
    },
    {
     "name": "stdout",
     "output_type": "stream",
     "text": [
      "Timer unit: 1e-07 s\n",
      "\n",
      "Total time: 1.3e-05 s\n",
      "\n",
      "Could not find file C:\\Users\\BALADI\\AppData\\Local\\Temp\\ipykernel_604\\516565721.py\n",
      "Are you sure you are running this program from the same directory\n",
      "that you ran the profiler from?\n",
      "Continuing without the function's contents.\n",
      "\n",
      "Line #      Hits         Time  Per Hit   % Time  Line Contents\n",
      "==============================================================\n",
      "     1                                           \n",
      "     2                                           \n",
      "     3         1         33.0     33.0     25.4  \n",
      "     4         3         47.0     15.7     36.2  \n",
      "     5         2         39.0     19.5     30.0  \n",
      "     6         1         11.0     11.0      8.5"
     ]
    }
   ],
   "source": [
    "#profile the function and identify the bottlenecks\n",
    "%load_ext line_profiler\n",
    "d = \", \"\n",
    "lstring = [\"life\",\"is\",\"good\"]\n",
    "%lprun -f ft_concatenate ft_concatenate(lstring,d)"
   ]
  },
  {
   "cell_type": "code",
   "execution_count": 6,
   "id": "022c84ac",
   "metadata": {},
   "outputs": [
    {
     "name": "stdout",
     "output_type": "stream",
     "text": [
      "Timer unit: 1e-07 s\n",
      "\n",
      "Total time: 6.5e-06 s\n",
      "\n",
      "Could not find file C:\\Users\\BALADI\\AppData\\Local\\Temp\\ipykernel_604\\4057333601.py\n",
      "Are you sure you are running this program from the same directory\n",
      "that you ran the profiler from?\n",
      "Continuing without the function's contents.\n",
      "\n",
      "Line #      Hits         Time  Per Hit   % Time  Line Contents\n",
      "==============================================================\n",
      "     1                                           \n",
      "     2         1         54.0     54.0     83.1  \n",
      "     3         1         11.0     11.0     16.9"
     ]
    }
   ],
   "source": [
    "def ft_concatenate2(l_strings, d):\n",
    "    res = d.join(l_strings)\n",
    "    return res\n",
    "\n",
    "%lprun -f ft_concatenate2 ft_concatenate2(lstring,d)"
   ]
  },
  {
   "cell_type": "markdown",
   "metadata": {},
   "source": [
    "### Exercise 2\n",
    "\n",
    "In this exercise you will solve the following problem using two methods bruteforce mehode, and fast method.\n",
    "\n",
    "**Problem:** You are given a list of n integers, and your task is to calculate the number of distinct values in the list.\n",
    "\n",
    "**Example**\n",
    "- Input:\n",
    "5\n",
    "2 3 2 2 3\n",
    "\n",
    "- Output:\n",
    "2\n",
    "\n",
    "**Implement the following methodes:**\n",
    "\n",
    "1. **bruteforce mehode:** create an empty list and start adding items for the given list without adding the previous item add, at the end the result list will contain unique values, print lenght of the list and you are done. \n",
    "2. **fast method** think of using Set data structure.\n",
    "\n",
    "- time the two methods, what do you think?"
   ]
  },
  {
   "cell_type": "code",
   "execution_count": 21,
   "id": "ac4677cf",
   "metadata": {},
   "outputs": [
    {
     "data": {
      "text/plain": [
       "2"
      ]
     },
     "execution_count": 21,
     "metadata": {},
     "output_type": "execute_result"
    }
   ],
   "source": [
    "#1: bruteforce_methode\n",
    "def bruteforce(n,l):\n",
    "    k = []\n",
    "    for i in range(n):\n",
    "        if l[i] not in k:\n",
    "            k.append(l[i])\n",
    "    return len(k)\n",
    "bruteforce(3,[2,2,4,3,4,6])"
   ]
  },
  {
   "cell_type": "code",
   "execution_count": 20,
   "metadata": {},
   "outputs": [
    {
     "data": {
      "text/plain": [
       "{2, 3, 4, 6}"
      ]
     },
     "execution_count": 20,
     "metadata": {},
     "output_type": "execute_result"
    }
   ],
   "source": [
    "# write fast method\n",
    "def fast(l):\n",
    "    l = set(l)\n",
    "    return l\n",
    "fast([2,2,4,3,4,6])"
   ]
  },
  {
   "cell_type": "code",
   "execution_count": 23,
   "metadata": {},
   "outputs": [
    {
     "name": "stdout",
     "output_type": "stream",
     "text": [
      "slow_method1\n",
      "1.3 µs ± 203 ns per loop (mean ± std. dev. of 7 runs, 1,000,000 loops each)\n",
      "fast_method1\n",
      "321 ns ± 8.25 ns per loop (mean ± std. dev. of 7 runs, 1,000,000 loops each)\n",
      "slow_method2\n",
      "1.69 µs ± 169 ns per loop (mean ± std. dev. of 7 runs, 1,000,000 loops each)\n",
      "fast_method1\n",
      "376 ns ± 17.6 ns per loop (mean ± std. dev. of 7 runs, 1,000,000 loops each)\n"
     ]
    }
   ],
   "source": [
    "n1 = 5\n",
    "l1 = [3,4,2,4,1]\n",
    "n2 = 6\n",
    "l2 = [1,3,2,5,7,8]\n",
    "# time the two methods\n",
    "print(\"slow_method1\")\n",
    "%timeit bruteforce(n1,l1)\n",
    "print(\"fast_method1\")\n",
    "%timeit fast(l1)\n",
    "print(\"slow_method2\")\n",
    "%timeit bruteforce(n2,l2)\n",
    "print(\"fast_method1\")\n",
    "%timeit fast(l2)"
   ]
  },
  {
   "cell_type": "markdown",
   "metadata": {},
   "source": [
    "## Cython exercises"
   ]
  },
  {
   "cell_type": "markdown",
   "metadata": {},
   "source": [
    "### Exercise 1"
   ]
  },
  {
   "cell_type": "markdown",
   "metadata": {},
   "source": [
    "1. load the cython extension."
   ]
  },
  {
   "cell_type": "code",
   "execution_count": 24,
   "metadata": {},
   "outputs": [],
   "source": [
    "%load_ext cython"
   ]
  },
  {
   "cell_type": "markdown",
   "metadata": {},
   "source": [
    "2. Condidering the following polynome function:"
   ]
  },
  {
   "cell_type": "code",
   "execution_count": 56,
   "metadata": {},
   "outputs": [
    {
     "data": {
      "text/plain": [
       "150.0"
      ]
     },
     "execution_count": 56,
     "metadata": {},
     "output_type": "execute_result"
    }
   ],
   "source": [
    "def poly(a,b):\n",
    "    return 10.5 * a + 3 * (b**2)\n",
    "poly(4,6)"
   ]
  },
  {
   "cell_type": "markdown",
   "metadata": {},
   "source": [
    "- Create an equivalent Cython function of `poly` with name `poly_cy` without any cython improvement, just make its cell a cython cell."
   ]
  },
  {
   "cell_type": "markdown",
   "metadata": {},
   "source": [
    "\n"
   ]
  },
  {
   "cell_type": "code",
   "execution_count": 55,
   "id": "9a5c1faa",
   "metadata": {},
   "outputs": [
    {
     "data": {
      "text/plain": [
       "150.0"
      ]
     },
     "execution_count": 55,
     "metadata": {},
     "output_type": "execute_result"
    }
   ],
   "source": [
    "import cython\n",
    "def polycy (a:cython.float ,b:cython.float):\n",
    "    return 10.5 * a + 3 * (b**2)\n",
    "polycy(4,6)"
   ]
  },
  {
   "cell_type": "markdown",
   "metadata": {},
   "source": [
    "3. time the performance of Python and Cython version of the function, what is the factor of speed up here between the two verions."
   ]
  },
  {
   "cell_type": "code",
   "execution_count": 58,
   "metadata": {},
   "outputs": [
    {
     "name": "stdout",
     "output_type": "stream",
     "text": [
      "Python Function\n",
      "553 ns ± 41.8 ns per loop (mean ± std. dev. of 7 runs, 1,000,000 loops each)\n",
      "Cython Function\n",
      "518 ns ± 16 ns per loop (mean ± std. dev. of 7 runs, 1,000,000 loops each)\n"
     ]
    }
   ],
   "source": [
    "print(\"Python Function\")\n",
    "%timeit poly(10,10)\n",
    "print(\"Cython Function\")\n",
    "%timeit polycy(10,10)"
   ]
  },
  {
   "cell_type": "markdown",
   "metadata": {},
   "source": [
    "4. Now lets work on another examples using loop.\n",
    "    - rewrite the same function below fib that calculate fibonacci series using cython, but now try to add type for the variables used inside it, add a prefix `_cy` to your new cython function."
   ]
  },
  {
   "cell_type": "code",
   "execution_count": 77,
   "metadata": {},
   "outputs": [],
   "source": [
    "def fib(n):\n",
    "    a, b = 1, 1\n",
    "    for i in range(n):\n",
    "        a, b = a + b, a\n",
    "\n",
    "    return a"
   ]
  },
  {
   "cell_type": "code",
   "execution_count": 85,
   "id": "e5ddc460",
   "metadata": {},
   "outputs": [],
   "source": [
    "def fib_cy(n:cython.int):\n",
    "    a:cython.int =1\n",
    "    b:cython.int =1\n",
    "    i:cython.int\n",
    "    for i in range(n):\n",
    "        a, b = a + b, a\n",
    "    return a"
   ]
  },
  {
   "cell_type": "markdown",
   "metadata": {},
   "source": [
    "- time the two function for fibonacci series, with n = 20, what is the factor of speed now, What do you think?"
   ]
  },
  {
   "cell_type": "code",
   "execution_count": 63,
   "metadata": {},
   "outputs": [
    {
     "name": "stdout",
     "output_type": "stream",
     "text": [
      "Python Function\n",
      "1.12 µs ± 30.7 ns per loop (mean ± std. dev. of 7 runs, 1,000,000 loops each)\n",
      "Cython Function\n",
      "1.15 µs ± 28.1 ns per loop (mean ± std. dev. of 7 runs, 1,000,000 loops each)\n"
     ]
    }
   ],
   "source": [
    "print(\"Python Function\")\n",
    "%timeit fib(12)\n",
    "print(\"Cython Function\")\n",
    "%timeit fib_cy(12)"
   ]
  },
  {
   "cell_type": "markdown",
   "metadata": {},
   "source": [
    "5. Recursive functions are functions that call themselves during their execution. Another interesting property of the Fibonacci series is that it can be written as a recursive function. That’s because each item depends on the values of other items (namely item n-1 and item n-2)\n",
    "\n",
    "- Rewrite the fib function using recursion. Is it faster than the non-recursive version? Does Cythonizing it give even more of an advantage? "
   ]
  },
  {
   "cell_type": "code",
   "execution_count": 71,
   "metadata": {},
   "outputs": [],
   "source": [
    "def rec_fib(n):\n",
    "   if n <= 1:\n",
    "       return n\n",
    "   else:\n",
    "       return (rec_fib(n-1) + rec_fib(n-2))"
   ]
  },
  {
   "cell_type": "code",
   "execution_count": 69,
   "id": "2dcead5f",
   "metadata": {},
   "outputs": [],
   "source": [
    "def rec_fib_cy(n:cython.int):\n",
    "    if(n<=1):\n",
    "        return n\n",
    "    else:\n",
    "        return (rec_fib(n-1) + rec_fib(n-2))"
   ]
  },
  {
   "cell_type": "code",
   "execution_count": 87,
   "id": "9f081cfe",
   "metadata": {},
   "outputs": [
    {
     "name": "stdout",
     "output_type": "stream",
     "text": [
      "Python Function\n",
      "68.1 µs ± 2.61 µs per loop (mean ± std. dev. of 7 runs, 10,000 loops each)\n",
      "Cython Function\n",
      "64.5 µs ± 1.99 µs per loop (mean ± std. dev. of 7 runs, 10,000 loops each)\n"
     ]
    }
   ],
   "source": [
    "print(\"Python Function\")\n",
    "%timeit rec_fib(12)\n",
    "print(\"Cython Function\")\n",
    "%timeit rec_fib_cy(12)"
   ]
  },
  {
   "cell_type": "markdown",
   "id": "4b410f76",
   "metadata": {},
   "source": [
    "the difference between recursive and iterative fubo function is huge in term of time and storage and even with cython \n",
    "the function take time in the execution and doesn't really resolve the prob of recursivity "
   ]
  },
  {
   "cell_type": "markdown",
   "metadata": {},
   "source": [
    "### Exercise 2\n",
    "\n",
    "- Monte Carlo methods are a broad class of computational algorithms that rely on repeated random sampling to obtain numerical results. \n",
    "- One of the basic examples of getting started with the Monte Carlo algorithm is the estimation of Pi.\n",
    "\n",
    "**Estimation of Pi**\n",
    "\n",
    "- The idea is to simulate random (x, y) points in a 2-D plane with domain as a square of side 1 unit. \n",
    "- Imagine a circle inside the same domain with same diameter and inscribed into the square. \n",
    "- We then calculate the ratio of number points that lied inside the circle and total number of generated points. \n",
    "- Refer to the image below:\n",
    "\n",
    "![demo](../data/MonteCarloPlot.png)\n",
    "\n",
    "We know that area of the square is 1 unit sq while that of circle is $\\pi \\ast  (\\frac{1}{2})^{2} = \\frac{\\pi}{4}$. Now for a very large number of generated points,\n",
    "\n",
    "![demo](../data/MonteCarloCalc.png)\n",
    "\n",
    "\n",
    "## The Algorithm\n",
    "\n",
    "1. Initialize cile_points, square_points and interval to 0.\n",
    "2. Generate random point x.\n",
    "3. Generate random point y.\n",
    "4. Calculate d = x*x + y*y.\n",
    "5. If d <= 1, increment circle_points.\n",
    "6. Increment square_points.\n",
    "7. Increment interval.\n",
    "8. If increment < NO_OF_ITERATIONS, repeat from 2.\n",
    "9. Calculate pi = 4*(circle_points/square_points).\n",
    "10. Terminate."
   ]
  },
  {
   "cell_type": "markdown",
   "metadata": {},
   "source": [
    "**Your mission:** time the function `monte_carlo_pi`, identify the bottlenecks and create a new version using cython functionality to speed up monte carlo simulation for PI, use 100,000 points and compare the speed up factor between python and cython, considering the following optimizations:\n",
    "- add type for variables used.\n",
    "- add type for the function\n",
    "- use c rand function instead of python rand function.\n",
    " \n",
    "*Hint: you can import function from C libraries using the following approach `from libc.<name of c library> cimport <library function name>`, replace the holders `<>` with the right identities for the current problem*"
   ]
  },
  {
   "cell_type": "code",
   "execution_count": 88,
   "metadata": {},
   "outputs": [],
   "source": [
    "import random\n",
    "def monte_carlo_pi(nsamples):\n",
    "    cile_points = 0\n",
    "    square_points = 0\n",
    "    for i in range(nsamples):\n",
    "        x = random.uniform(0,1)\n",
    "        y = random.uniform(0,1)\n",
    "        d = x**2 + y**2\n",
    "        if d <= 1:\n",
    "            cile_points += 1\n",
    "        square_points += 1\n",
    "    pi = 4 * (cile_points/square_points)\n",
    "    return pi"
   ]
  },
  {
   "cell_type": "code",
   "execution_count": null,
   "id": "acc9bb20",
   "metadata": {},
   "outputs": [],
   "source": [
    "import cython \n",
    "from libc.stdlib cimport rand, srand, RAND_MAX\n",
    "from libc.time cimport time\n",
    "\n",
    "def float monte_carlo_pi_cy(nsamples:cython.int):\n",
    "    cile_points :cython.int = 0\n",
    "    square_points:cython.int  = 0\n",
    "    int i:cython.int \n",
    "    x:cython.float\n",
    "    y:cython.float\n",
    "    d:cython.float\n",
    "    pi:cython.float\n",
    "    srand(time(NULL))\n",
    "    for i in range(nsamples):\n",
    "        x = float(rand())/float(RAND_MAX)\n",
    "        y = float(rand())/float(RAND_MAX)\n",
    "        d = x**2 + y**2\n",
    "        if d <= 1:\n",
    "            cile_points += 1\n",
    "        square_points += 1\n",
    "    pi = 4 * (cile_points/square_points)\n",
    "    return pi\n"
   ]
  },
  {
   "cell_type": "markdown",
   "metadata": {},
   "source": [
    "## Numba exercises"
   ]
  },
  {
   "cell_type": "markdown",
   "metadata": {},
   "source": [
    "### Exercise 1\n",
    "\n",
    "Previously we considered how to approximateby Monte Carlo.\n",
    "\n",
    "- Use the same idea here, but make the code efficient using Numba.\n",
    "- Compare speed with and without Numba when the sample size is large."
   ]
  },
  {
   "cell_type": "code",
   "execution_count": 103,
   "metadata": {},
   "outputs": [],
   "source": [
    "import random\n",
    "def monte_carlo_pi(nsamples):\n",
    "    cile_points = 0\n",
    "    square_points = 0\n",
    "    for i in range(nsamples):\n",
    "        x = random.uniform(0,1)\n",
    "        y = random.uniform(0,1)\n",
    "        d = x**2 + y**2\n",
    "        if d <= 1:\n",
    "            cile_points += 1\n",
    "        square_points += 1\n",
    "    pi = 4 * (cile_points/square_points)\n",
    "    return pi"
   ]
  },
  {
   "cell_type": "code",
   "execution_count": 108,
   "id": "6b3ef951",
   "metadata": {},
   "outputs": [],
   "source": [
    "import random\n",
    "import numba\n",
    "from numba import jit\n",
    "@jit(nopython=True)\n",
    "def monte_carlo_pi_jit(nsamples):\n",
    "    cile_points = 0\n",
    "    square_points = 0\n",
    "    for i in range(nsamples):\n",
    "        x = random.uniform(0,1)\n",
    "        y = random.uniform(0,1)\n",
    "        d = x**2 + y**2\n",
    "        if d <= 1:\n",
    "            cile_points += 1\n",
    "        square_points += 1\n",
    "    pi = 4 * (cile_points/square_points)\n",
    "    return pi"
   ]
  },
  {
   "cell_type": "code",
   "execution_count": 109,
   "id": "628f55f3",
   "metadata": {},
   "outputs": [
    {
     "name": "stdout",
     "output_type": "stream",
     "text": [
      "Without Numba\n",
      "142 ms ± 5.82 ms per loop (mean ± std. dev. of 7 runs, 10 loops each)\n",
      "With Numba\n",
      "2.22 ms ± 124 µs per loop (mean ± std. dev. of 7 runs, 1 loop each)\n"
     ]
    }
   ],
   "source": [
    "print(\"Without Numba\")\n",
    "%timeit monte_carlo_pi(100000)\n",
    "print(\"With Numba\")\n",
    "%timeit monte_carlo_pi_jit(100000)"
   ]
  },
  {
   "cell_type": "markdown",
   "metadata": {},
   "source": [
    "### Exercise 2\n",
    "\n",
    "In the [Introduction to Quantitative Economics](https://python.quantecon.org/intro.html) with Python lecture series you can learn all about finite-state Markov chains.\n",
    "\n",
    "For now, let's just concentrate on simulating a very simple example of such a chain.\n",
    "\n",
    "Suppose that the volatility of returns on an asset can be in one of two regimes — high or low.\n",
    "\n",
    "The transition probabilities across states are as follows ![markov](../data/markov.png)\n",
    "\n",
    "For example, let the period length be one day, and suppose the current state is high.\n",
    "\n",
    "We see from the graph that the state tomorrow will be\n",
    "\n",
    "- high with probability 0.8\n",
    "\n",
    "- low with probability 0.2\n",
    "\n",
    "Your task is to simulate a sequence of daily volatility states according to this rule.\n",
    "\n",
    "Set the length of the sequence to `n = 1_000_000` and start in the high state.\n",
    "\n",
    "Implement a pure Python version and a Numba version, and compare speeds.\n",
    "\n",
    "To test your code, evaluate the fraction of time that the chain spends in the low state.\n",
    "\n",
    "If your code is correct, it should be about 2/3.\n",
    "\n",
    "Hints:\n",
    "\n",
    "- Represent the low state as 0 and the high state as 1.\n",
    "\n",
    "- If you want to store integers in a NumPy array and then apply JIT compilation, use `x = np.empty(n, dtype=np.int_)`.\n"
   ]
  },
  {
   "cell_type": "markdown",
   "metadata": {},
   "source": [
    "## Additionnal exercice"
   ]
  },
  {
   "cell_type": "markdown",
   "metadata": {},
   "source": []
  }
 ],
 "metadata": {
  "hide_input": false,
  "kernelspec": {
   "display_name": "Python 3",
   "language": "python",
   "name": "python3"
  },
  "language_info": {
   "codemirror_mode": {
    "name": "ipython",
    "version": 3
   },
   "file_extension": ".py",
   "mimetype": "text/x-python",
   "name": "python",
   "nbconvert_exporter": "python",
   "pygments_lexer": "ipython3",
   "version": "3.10.2"
  }
 },
 "nbformat": 4,
 "nbformat_minor": 5
}
